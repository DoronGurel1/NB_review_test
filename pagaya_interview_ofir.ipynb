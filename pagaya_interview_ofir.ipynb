{
 "cells": [
  {
   "cell_type": "markdown",
   "metadata": {
    "colab_type": "text",
    "id": "HfXbpx7LD_Vg"
   },
   "source": [
    "# Pagaya stock price challange\n",
    "\n",
    "below you may find a list representing daily prices of stock X.\n",
    "there is a single price per day, and no fees for buying, selling or holding.\n",
    "this list is given to you in retrospect (this is historic data).\n",
    "\n",
    "your goal is to find the dates (list indexes) that you would have wanted to buy and sell the stock in retrospect in order to maximise profit for the entire period.\n",
    "\n",
    "notice this list is only a sample of the historic data, make sure your code is efficiant and would run on a list of any length - solution must be at most O(n)"
   ]
  },
  {
   "cell_type": "code",
   "execution_count": 1,
   "metadata": {
    "colab": {},
    "colab_type": "code",
    "id": "TTX0c38rPwRM"
   },
   "outputs": [],
   "source": [
    "stock_x_prices = [8,10,9,12,11,7,9,8,12,14,10,9,7,5,9,8,10,13,9,6,4,10]\n"
   ]
  },
  {
   "cell_type": "markdown",
   "metadata": {
    "colab_type": "text",
    "id": "o3-zmjE6DkN0"
   },
   "source": [
    "## Part 1\n",
    "write a function that takes stock_x_prices as input and returns two lists, indexes to buy the stock, indexes to sell the stock.\n",
    "\n",
    "you may buy and sell __as many times you like__ over the entire period."
   ]
  },
  {
   "cell_type": "code",
   "execution_count": 2,
   "metadata": {
    "colab": {},
    "colab_type": "code",
    "id": "Yc66aRfXDlsT"
   },
   "outputs": [],
   "source": [
    "def func1(prices):\n",
    "  holds = False\n",
    "  buy = []\n",
    "  sale = []\n",
    "  for i in range(len(prices)-1):\n",
    "    if (prices[i] < prices[i+1]) and (holds == False):\n",
    "        buy.append(i)\n",
    "        holds = True\n",
    "    elif (prices[i] > prices[i+1]) and holds:\n",
    "        sale.append(i)\n",
    "        holds = False\n",
    "  return {'buy':buy, 'sale': sale}"
   ]
  },
  {
   "cell_type": "code",
   "execution_count": 3,
   "metadata": {},
   "outputs": [
    {
     "data": {
      "text/plain": [
       "{'buy': [0, 2, 5, 7, 13, 15, 20], 'sale': [1, 3, 6, 9, 14, 17]}"
      ]
     },
     "execution_count": 3,
     "metadata": {},
     "output_type": "execute_result"
    }
   ],
   "source": [
    "func1(stock_x_prices)"
   ]
  },
  {
   "cell_type": "markdown",
   "metadata": {
    "colab_type": "text",
    "id": "GCDxENDNP4wN"
   },
   "source": [
    "## Part 2\n",
    "\n",
    "write a function that takes stock_x_prices as input and returns two integers, index to buy the stock, index to sell the stock.\n",
    "\n",
    "you may buy and sell as __only once__ over the entire period.\n"
   ]
  },
  {
   "cell_type": "code",
   "execution_count": 5,
   "metadata": {
    "colab": {},
    "colab_type": "code",
    "id": "BhPL8nrHP48D"
   },
   "outputs": [],
   "source": [
    "## your function here ##\n",
    "\n",
    "def func2(prices):\n",
    "  gain = [{'s':0,'g':0,'m':0}]\n",
    "  smallest = 0\n",
    "  bigest = 0\n",
    "  most_g = 0\n",
    "  most = []\n",
    "  for i in range(len(prices)-1):\n",
    "      if prices[smallest] > prices[i]:\n",
    "          gain.append({'s':i,'g':0,'m':i})\n",
    "          smallest = i\n",
    "      if prices[bigest] < prices[i]:\n",
    "          bigest = i\n",
    "          for item in gain:\n",
    "              item['m'] = i\n",
    "              item['g'] = prices[item['m']] - prices[item['s']]\n",
    "              if most_g < item['g']:\n",
    "                  most_g = item['g']\n",
    "                  most = item\n",
    "  return most\n",
    "  "
   ]
  },
  {
   "cell_type": "code",
   "execution_count": 6,
   "metadata": {},
   "outputs": [
    {
     "data": {
      "text/plain": [
       "{'s': 5, 'g': 7, 'm': 9}"
      ]
     },
     "execution_count": 6,
     "metadata": {},
     "output_type": "execute_result"
    }
   ],
   "source": [
    "func2(stock_x_prices)"
   ]
  },
  {
   "cell_type": "code",
   "execution_count": null,
   "metadata": {},
   "outputs": [],
   "source": []
  }
 ],
 "metadata": {
  "colab": {
   "collapsed_sections": [],
   "name": "pagaya_interview_ofir.ipynb",
   "provenance": []
  },
  "kernelspec": {
   "display_name": "Python 3",
   "language": "python",
   "name": "python3"
  },
  "language_info": {
   "codemirror_mode": {
    "name": "ipython",
    "version": 3
   },
   "file_extension": ".py",
   "mimetype": "text/x-python",
   "name": "python",
   "nbconvert_exporter": "python",
   "pygments_lexer": "ipython3",
   "version": "3.6.7"
  }
 },
 "nbformat": 4,
 "nbformat_minor": 4
}
